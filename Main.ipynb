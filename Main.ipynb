{
 "cells": [
  {
   "cell_type": "markdown",
   "metadata": {},
   "source": [
    "This main jupyter notebook of ENLR, it is about the spatial extension of the extended narrow lines (ENLRs). We used the data from MaNGA, the massive integrate field unit(IFU) observation, to selected the AGNs with extended narrow line regions and try to revisit the size luminosity relation of ENLR."
   ]
  },
  {
   "cell_type": "markdown",
   "metadata": {
    "ExecuteTime": {
     "end_time": "2019-02-22T07:42:10.623987Z",
     "start_time": "2019-02-22T07:42:10.599359Z"
    }
   },
   "source": [
    "**to-do list**\n",
    "<form>\n",
    "  <input type=\"checkbox\" checked> Making data analysis structure the same as the paper.<br>\n",
    "  <input type=\"checkbox\" checked> Excluding binary galaxies from you sample which affected the size measuring of the ENLR.<br>\n",
    "  <input type=\"checkbox\" checked> Comparing your sample with PSF and the radius of the major axies of OIII to judge whether the ENLR was resolved.<br>\n",
    "  <input type=\"checkbox\" checked> Applying dust extinction when calculating the ENLR radius<br>\n",
    "  <input type=\"checkbox\" checked> Using MC method to get the mearsuring error of all the results <br>\n",
    "  <input type=\"checkbox\" > Checking the size of ENLR with the 5500Å to determine the check the whether the relation is due to the AGN or the host galaxy<br> \n",
    "  <input type=\"checkbox\" checked> Adding the results of previous works to the matched plot<br>\n",
    "  <input type=\"checkbox\" > Checking the morphology of ENLR with the b/a of the galaxy to find possible relation with related with egde-on galaxies<br>\n",
    "  <input type=\"checkbox\" > Getting the stellar mass of the galaxies to check the ENLR go with L[OIII]/Mass_stellar (L/M as a roughly accretion rate).<br>\n",
    "  <input type=\"checkbox\"> What's the relation with hubble morphology related?<br>\n",
    "  <input type=\"checkbox\"> Determining the ionizing state of the gas. Using the software developed by Thomas2018 <a href=\"https://github.com/ADThomas-astro/NebulaBayes\">NebulaBayes</a><br> \n",
    "  <input type=\"checkbox\"> Determining the difference between bulge-dominanted and disk-dominanted galaxies, using the cataloge of Meer2015<br>\n",
    "  <input type=\"checkbox\" checked> Determining the gas density and inonized state of the NLR according MaNGA internal Nascimento2018. <i>the S/N was not enough for that</i><br>\n",
    "  <input type=\"checkbox\" checked> Cross-matching with all sky surveys (ROSAT, WISE, FIRST)<br>\n",
    "  <input type=\"checkbox\"> Using some indicator that can show the evolution of the ENLR, age? metallicity? SFH?<br>\n",
    "  <input type=\"checkbox\"> Picking out the outliers of the sample, finding the possible reason that contribute the scatter.<br>\n",
    "  <input type=\"checkbox\" checked> Whether this relation is due to secular process? Single or multiple process? something like the [‘red geysers] (Cheung 2016)<br>\n",
    "  <input type=\"checkbox\" checked> Using the line ratio that can stand for the ionization ([O III]/Hb) to see whether the results is consistant with OIII. <i>limited by resolution</i><br>\n",
    "</form>"
   ]
  },
  {
   "cell_type": "markdown",
   "metadata": {},
   "source": [
    "**Contents**\n",
    "\n",
    "The structure of the whole jupyter notebook\n",
    "\n",
    "- [Sample Selection](./Sample_selection.ipynb) \n",
    "- [Methods](./Methods.ipynb)\n",
    "- [Extended Narrow line Region](./ENLR.ipynb)\n",
    "- [Results](./Results.ipynb)\n",
    "- [Discussion](./Discussion.ipynb)"
   ]
  },
  {
   "cell_type": "markdown",
   "metadata": {},
   "source": [
    "**Figures**\n",
    "\n",
    "The shortcuts linking to the plots showed in the paper\n",
    "\n",
    "- [Figure 1](./Sample_selection.ipynb#All-the-sample-in-BPT-diagram)\n",
    "- [Figure 2](./Methods.ipynb#Demo-Sample-Detail)\n",
    "- [Figure 3](./ENLR.ipynb#Demo-Different-PSF-Effects)\n",
    "- [Figure 4](./Methods.ipynb#Demo-ENLR-Shapes)\n",
    "- [Figure 5](./Results.ipynb#Size(ENLR)---Luminosty(AGN)-relation)\n",
    "- Figure 6\n",
    "- [Figure 7](./Discussion.ipynb#Outflow)\n",
    "- [Figure 8](./Discussion.ipynb#Plot-the-results)"
   ]
  },
  {
   "cell_type": "code",
   "execution_count": null,
   "metadata": {
    "ExecuteTime": {
     "end_time": "2019-03-21T08:28:17.576711Z",
     "start_time": "2019-03-21T08:28:17.490416Z"
    }
   },
   "outputs": [],
   "source": [
    "# Read all the computed data, generate the table in paper\n",
    "# History:\n",
    "#   2018-11-12: first release\n",
    "\n",
    "# the columns of the table\n",
    "# ---------------------------------------------------------------------------------\n",
    "# plateifu, mangaid, Ra, Dec, z, g_PSF, logL_[O III], R_16, resolved, outflow_strength, ENLR shape, radio_loudness, comments(typeI?)\n",
    "\n",
    "import numpy as np\n",
    "from astropy.table import Table\n",
    "\n",
    "this_AGN = Table.read('data/AGNs-2019-03-20.dat', format='ascii')\n",
    "this_Ldata = Table.read('data/LO3-2019-03-20.dat', format=\"ascii\")\n",
    "this_Rdata = Table.read('data/R_fsb-2019-03-20.dat', format='ascii')\n",
    "this_morphology = Table.read('data/morphology-2019-03-21.dat', format='ascii')\n",
    "\n",
    "\n",
    "LO3 = this_Ldata['LO3_redcorr']\n",
    "LO3_err = 0.5 * (this_Ldata['LO3_redcorr_err_up'].data + this_Ldata['LO3_redcorr_err_low'].data)\n",
    "R16 = 10**this_Rdata['logR_fsb2_orig'].data / 1000\n",
    "R16_err = this_Rdata['logR_fsb2_orig_err'].data * 10**this_Rdata['logR_fsb2_orig'].data / 1000 * np.log(10)\n",
    "resolved = (this_Rdata['is_limit'].data == 0)\n",
    "outflow_strength = this_Ldata['outflow_strength']\n",
    "ENLR_shapes = this_morphology['shape']\n",
    "radio_loudness = this_morphology['radio_loudness']\n",
    "agn_type1 = this_morphology['agn_type'] == 1\n",
    "agn_types = np.full_like(agn_type1, '--', dtype='<U8')\n",
    "agn_types[agn_type1] = 'type-I'\n",
    "\n",
    "tot_num = len(this_AGN[:])\n",
    "for i in range(tot_num):\n",
    "    plateifu = this_AGN['plateifu'][i]\n",
    "    mangaid = this_AGN['mangaid'][i]\n",
    "    ra = this_AGN['ra'][i]\n",
    "    dec = this_AGN['dec'][i]\n",
    "    \n",
    "    print(\"{} & {} & {} & {} & {} & {} & {:.2f}$\\pm${:.2f} & {:.2f}$\\pm${:.2f} & {} & {:.2f} & {} & {:.2f} & {} \\\\\\\\\".format(\n",
    "        plateifu, mangaid, ra, dec, m.z, m.psf, LO3[i], LO3_err[i], R16[i], R16_err[i], resolved[i], outflow_strength[i], ENLR_shapes[i], radio_loudness[i], agn_types[i]))"
   ]
  },
  {
   "cell_type": "code",
   "execution_count": null,
   "metadata": {},
   "outputs": [],
   "source": []
  }
 ],
 "metadata": {
  "kernelspec": {
   "display_name": "Python 3",
   "language": "python",
   "name": "python3"
  },
  "language_info": {
   "codemirror_mode": {
    "name": "ipython",
    "version": 3
   },
   "file_extension": ".py",
   "mimetype": "text/x-python",
   "name": "python",
   "nbconvert_exporter": "python",
   "pygments_lexer": "ipython3",
   "version": "3.7.2"
  },
  "toc": {
   "base_numbering": 1,
   "nav_menu": {},
   "number_sections": true,
   "sideBar": true,
   "skip_h1_title": false,
   "title_cell": "Table of Contents",
   "title_sidebar": "Contents",
   "toc_cell": false,
   "toc_position": {},
   "toc_section_display": true,
   "toc_window_display": false
  }
 },
 "nbformat": 4,
 "nbformat_minor": 2
}
