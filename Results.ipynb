{
 "cells": [
  {
   "cell_type": "code",
   "execution_count": 2,
   "metadata": {
    "ExecuteTime": {
     "end_time": "2019-03-28T06:13:22.668481Z",
     "start_time": "2019-03-28T06:13:22.570870Z"
    }
   },
   "outputs": [
    {
     "name": "stdout",
     "output_type": "stream",
     "text": [
      "The autoreload extension is already loaded. To reload it, use:\n",
      "  %reload_ext autoreload\n"
     ]
    }
   ],
   "source": [
    "%matplotlib inline\n",
    "# autoload the package, for debuge purpose\n",
    "%load_ext autoreload\n",
    "%autoreload 2\n",
    "\n",
    "# import modules and plot setting\n",
    "import numpy as np\n",
    "from matplotlib import pyplot as plt\n",
    "from astropy.table import Table\n",
    "import datetime\n",
    "from astropy.table import Table\n",
    "from astropy.io import fits\n",
    "from mangatools import maps, utils\n",
    "\n",
    "today = datetime.date.today().isoformat()\n",
    "\n",
    "# set the display properties\n",
    "from IPython.display import set_matplotlib_formats\n",
    "set_matplotlib_formats('png')\n",
    "\n",
    "# customize the warning message\n",
    "import warnings\n",
    "warnings.filterwarnings(\"default\") # default or ignore"
   ]
  },
  {
   "cell_type": "markdown",
   "metadata": {},
   "source": [
    "## Read Data\n",
    "R-L relation"
   ]
  },
  {
   "cell_type": "markdown",
   "metadata": {},
   "source": [
    "### Fraquelli2003"
   ]
  },
  {
   "cell_type": "code",
   "execution_count": 3,
   "metadata": {
    "ExecuteTime": {
     "end_time": "2019-03-28T06:13:24.851078Z",
     "start_time": "2019-03-28T06:13:24.777857Z"
    }
   },
   "outputs": [
    {
     "data": {
      "text/html": [
       "<i>Table length=2</i>\n",
       "<table id=\"table4905911128\" class=\"table-striped table-bordered table-condensed\">\n",
       "<thead><tr><th>name</th><th>L_OIII</th><th>delta</th><th>distance</th><th>scale</th></tr></thead>\n",
       "<thead><tr><th>str14</th><th>float64</th><th>float64</th><th>float64</th><th>int64</th></tr></thead>\n",
       "<tr><td>ESO417-G6</td><td>38.3</td><td>-3.5</td><td>63.89</td><td>310</td></tr>\n",
       "<tr><td>Fairall316</td><td>35.91</td><td>-2.9</td><td>63.63</td><td>308</td></tr>\n",
       "</table>"
      ],
      "text/plain": [
       "<Table length=2>\n",
       "   name     L_OIII  delta  distance scale\n",
       "  str14    float64 float64 float64  int64\n",
       "---------- ------- ------- -------- -----\n",
       " ESO417-G6    38.3    -3.5    63.89   310\n",
       "Fairall316   35.91    -2.9    63.63   308"
      ]
     },
     "execution_count": 3,
     "metadata": {},
     "output_type": "execute_result"
    }
   ],
   "source": [
    "from astropy.table import Table\n",
    "# read data from (Fraquelli 2003) \n",
    "fraquelli2003 = Table.read('data/Fraquelli2003.txt', format='ascii')\n",
    "fraquelli2003[:2]"
   ]
  },
  {
   "cell_type": "code",
   "execution_count": 4,
   "metadata": {
    "ExecuteTime": {
     "end_time": "2019-03-28T06:13:26.813425Z",
     "start_time": "2019-03-28T06:13:26.463568Z"
    }
   },
   "outputs": [
    {
     "name": "stdout",
     "output_type": "stream",
     "text": [
      "escape: NGC1386\n",
      "escape: NGC5643\n"
     ]
    },
    {
     "data": {
      "image/png": "[encoded data removed]",
      "text/plain": [
       "<Figure size 432x288 with 1 Axes>"
      ]
     },
     "metadata": {
      "needs_background": "light"
     },
     "output_type": "display_data"
    }
   ],
   "source": [
    "# convert fraquelli2001 to surface brightness\n",
    "SB = 1e-16\n",
    "r = np.linspace(100, 40000, 1000)\n",
    "dr = np.diff(r)\n",
    "r = r[0:-1]\n",
    "fra03_r = []\n",
    "fra03_L = []\n",
    "\n",
    "for i in range(0, len(fraquelli2003)):\n",
    "    # exclude two also observerd by Bennert2006a\n",
    "    if fraquelli2003['name'][i] == 'NGC5643' or fraquelli2003['name'][i] == 'NGC1386':\n",
    "        print(\"escape:\", fraquelli2003['name'][i])\n",
    "    L_tmp = fraquelli2003['L_OIII'][i] + fraquelli2003['delta'][i] * (np.log10(r) - np.log10(100))\n",
    "    #print(logF)\n",
    "    threshold = np.log10(SB*4*np.pi*fraquelli2003['distance'][i]**2 \n",
    "                     *(u.Mpc.to(u.cm))**2/(fraquelli2003['scale'][i]**2))\n",
    "    #print(threshold)\n",
    "    sel = L_tmp < threshold\n",
    "    fra03_L.append(np.log10(np.sum(10**L_tmp[sel] * 2*np.pi*r[sel]*dr[sel])))\n",
    "    r_tmp = np.min(r[sel])\n",
    "    fra03_r.append(np.log10(r_tmp))\n",
    "fra03_L = np.array(fra03_L)\n",
    "fra03_r = np.array(fra03_r)\n",
    "if True: #plot\n",
    "    plt.plot(fra03_L, fra03_r, 'o')\n",
    "    #print(fra2003_r, fra2003_L)"
   ]
  },
  {
   "cell_type": "markdown",
   "metadata": {},
   "source": [
    "### Bennert2006a"
   ]
  },
  {
   "cell_type": "code",
   "execution_count": 5,
   "metadata": {
    "ExecuteTime": {
     "end_time": "2019-03-28T06:13:30.315228Z",
     "start_time": "2019-03-28T06:13:30.252715Z"
    }
   },
   "outputs": [
    {
     "data": {
      "text/html": [
       "<i>Table length=2</i>\n",
       "<table id=\"table4884694744\" class=\"table-striped table-bordered table-condensed\">\n",
       "<thead><tr><th>name</th><th>dist</th><th>scale</th><th>R_NLR</th><th>L0_OIII</th><th>delta</th><th>delta_err</th></tr></thead>\n",
       "<thead><tr><th>str11</th><th>int64</th><th>int64</th><th>int64</th><th>float64</th><th>float64</th><th>float64</th></tr></thead>\n",
       "<tr><td>IC5063</td><td>47</td><td>220</td><td>2860</td><td>38.41</td><td>-2.73</td><td>0.33</td></tr>\n",
       "<tr><td>NGC7212</td><td>110</td><td>504</td><td>5040</td><td>38.46</td><td>-2.13</td><td>0.57</td></tr>\n",
       "</table>"
      ],
      "text/plain": [
       "<Table length=2>\n",
       "  name   dist scale R_NLR L0_OIII  delta  delta_err\n",
       " str11  int64 int64 int64 float64 float64  float64 \n",
       "------- ----- ----- ----- ------- ------- ---------\n",
       " IC5063    47   220  2860   38.41   -2.73      0.33\n",
       "NGC7212   110   504  5040   38.46   -2.13      0.57"
      ]
     },
     "execution_count": 5,
     "metadata": {},
     "output_type": "execute_result"
    }
   ],
   "source": [
    "bennert2006a = Table.read('data/Bennert2006a.txt', format='ascii')\n",
    "bennert2006a[:2]"
   ]
  },
  {
   "cell_type": "code",
   "execution_count": 6,
   "metadata": {
    "ExecuteTime": {
     "end_time": "2019-03-28T06:13:32.573608Z",
     "start_time": "2019-03-28T06:13:32.195661Z"
    }
   },
   "outputs": [
    {
     "name": "stdout",
     "output_type": "stream",
     "text": [
      "Escape bad fit: ESO362-G008\n"
     ]
    },
    {
     "data": {
      "image/png": "[encoded data removed]",
      "text/plain": [
       "<Figure size 432x288 with 1 Axes>"
      ]
     },
     "metadata": {
      "needs_background": "light"
     },
     "output_type": "display_data"
    }
   ],
   "source": [
    "# convert fraquelli2001 to surface brightness\n",
    "r = np.linspace(100, 400000, 1000)\n",
    "dr = np.diff(r)\n",
    "r = r[0:-1]\n",
    "ben06a_L = []\n",
    "ben06a_r = []\n",
    "ben06a_r_err = []\n",
    "for i in range(0, len(bennert2006a)):\n",
    "    if bennert2006a['delta'][i] > -1e-6:\n",
    "        print('Escape bad fit:', bennert2006a['name'][i])\n",
    "        continue\n",
    "    L_tmp = bennert2006a['L0_OIII'][i] + bennert2006a['delta'][i] * (np.log10(r) - np.log10(100))\n",
    "    #print(logF)\n",
    "    threshold = np.log10(1e-16*4*np.pi*bennert2006a['dist'][i]**2 \n",
    "                     *(u.Mpc.to(u.cm))**2/(bennert2006a['scale'][i]**2))\n",
    "    #print(threshold)\n",
    "    sel = L_tmp < threshold\n",
    "    ben06a_L.append(np.log10(np.sum(10**L_tmp[sel] * 2*np.pi*r[sel]*dr[sel])))\n",
    "    r_tmp = np.min(r[sel])\n",
    "    ben06a_r.append(np.log10(r_tmp))\n",
    "    ben06a_r_err.append(0.5/np.log(10)) #need update\n",
    "ben06a_L = np.array(ben06a_L)\n",
    "ben06a_r = np.array(ben06a_r)\n",
    "ben06a_r_err = np.array(ben06a_r_err)\n",
    "if True:\n",
    "    #print(r_bennert_a, F_bennert_a)\n",
    "    plt.errorbar(ben06a_L, ben06a_r, yerr=ben06a_r_err, marker='o', linestyle='None')"
   ]
  },
  {
   "cell_type": "markdown",
   "metadata": {},
   "source": [
    "### Bennert2006b"
   ]
  },
  {
   "cell_type": "code",
   "execution_count": 7,
   "metadata": {
    "ExecuteTime": {
     "end_time": "2019-03-28T06:13:34.841353Z",
     "start_time": "2019-03-28T06:13:34.787381Z"
    }
   },
   "outputs": [
    {
     "data": {
      "text/html": [
       "<i>Table length=2</i>\n",
       "<table id=\"table4884695360\" class=\"table-striped table-bordered table-condensed\">\n",
       "<thead><tr><th>name</th><th>dist</th><th>scale</th><th>R_NLR</th><th>L0_OIII</th><th>delta</th><th>delta_err</th></tr></thead>\n",
       "<thead><tr><th>str13</th><th>int64</th><th>int64</th><th>int64</th><th>float64</th><th>float64</th><th>float64</th></tr></thead>\n",
       "<tr><td>Fairall51</td><td>60</td><td>283</td><td>2260</td><td>38.14</td><td>-3.55</td><td>0.25</td></tr>\n",
       "<tr><td>NGC6860</td><td>62</td><td>293</td><td>1465</td><td>37.69</td><td>-3.06</td><td>0.12</td></tr>\n",
       "</table>"
      ],
      "text/plain": [
       "<Table length=2>\n",
       "   name    dist scale R_NLR L0_OIII  delta  delta_err\n",
       "  str13   int64 int64 int64 float64 float64  float64 \n",
       "--------- ----- ----- ----- ------- ------- ---------\n",
       "Fairall51    60   283  2260   38.14   -3.55      0.25\n",
       "  NGC6860    62   293  1465   37.69   -3.06      0.12"
      ]
     },
     "execution_count": 7,
     "metadata": {},
     "output_type": "execute_result"
    }
   ],
   "source": [
    "bennert2006b = Table.read('data/Bennert2006b.txt', format='ascii')\n",
    "bennert2006b[:2]"
   ]
  },
  {
   "cell_type": "code",
   "execution_count": 8,
   "metadata": {
    "ExecuteTime": {
     "end_time": "2019-03-28T06:13:37.079987Z",
     "start_time": "2019-03-28T06:13:36.732021Z"
    }
   },
   "outputs": [
    {
     "data": {
      "image/png": "[encoded data removed]",
      "text/plain": [
       "<Figure size 432x288 with 1 Axes>"
      ]
     },
     "metadata": {
      "needs_background": "light"
     },
     "output_type": "display_data"
    }
   ],
   "source": [
    "# convert fraquelli2001 to surface brightness\n",
    "r = np.linspace(100, 40000, 1000)\n",
    "dr = np.diff(r)\n",
    "r = r[0:-1]\n",
    "ben06b_L = []\n",
    "ben06b_r = []\n",
    "ben06b_r_err = []\n",
    "for i in range(0, len(bennert2006b)):\n",
    "    if bennert2006b['delta'][i] > -1e-6:\n",
    "        print('Escape bad fit:', bennert2006b['name'][i])\n",
    "        continue\n",
    "    L_tmp = bennert2006b['L0_OIII'][i] + bennert2006b['delta'][i] * (np.log10(r) - np.log10(100))\n",
    "    #print(logF)\n",
    "    threshold = np.log10(1e-16*4*np.pi*bennert2006b['dist'][i]**2 \n",
    "                     *(u.Mpc.to(u.cm))**2/(bennert2006b['scale'][i]**2))\n",
    "    #print(threshold)\n",
    "    sel = L_tmp < threshold\n",
    "    ben06b_L.append(np.log10(np.sum(10**L_tmp[sel] * 2*np.pi*r[sel]*dr[sel])))\n",
    "    r_tmp = np.min(r[sel])\n",
    "    ben06b_r.append(np.log10(r_tmp))\n",
    "    ben06b_r_err.append(0.5/np.log(10)) #need update\n",
    "\n",
    "ben06b_L = np.array(ben06b_L)\n",
    "ben06b_r = np.array(ben06b_r)\n",
    "ben06b_r_err = np.array(ben06b_r_err)\n",
    "\n",
    "if True:\n",
    "    #print(r_bennert_a, F_bennert_a)\n",
    "    plt.errorbar(ben06b_L, ben06b_r, yerr=ben06b_r_err, marker='o', linestyle='None')"
   ]
  },
  {
   "cell_type": "markdown",
   "metadata": {},
   "source": [
    "### Greene2011"
   ]
  },
  {
   "cell_type": "code",
   "execution_count": 9,
   "metadata": {
    "ExecuteTime": {
     "end_time": "2019-03-28T06:13:39.854028Z",
     "start_time": "2019-03-28T06:13:39.798612Z"
    }
   },
   "outputs": [
    {
     "data": {
      "text/html": [
       "<i>Table length=2</i>\n",
       "<table id=\"table4885044416\" class=\"table-striped table-bordered table-condensed\">\n",
       "<thead><tr><th>SDSS</th><th>LOIII</th><th>ROIII</th><th>RCont</th><th>FWHM</th><th>beta1</th><th>beta2</th><th>uplimit</th></tr></thead>\n",
       "<thead><tr><th>str10</th><th>float64</th><th>float64</th><th>float64</th><th>float64</th><th>float64</th><th>float64</th><th>int64</th></tr></thead>\n",
       "<tr><td>J0157−0053</td><td>42.91</td><td>4.3</td><td>4.0</td><td>3.0</td><td>2.9</td><td>3.2</td><td>1</td></tr>\n",
       "<tr><td>J1106+0357</td><td>42.52</td><td>4.0</td><td>4.1</td><td>2.8</td><td>2.9</td><td>3.2</td><td>0</td></tr>\n",
       "</table>"
      ],
      "text/plain": [
       "<Table length=2>\n",
       "   SDSS     LOIII   ROIII   RCont    FWHM   beta1   beta2  uplimit\n",
       "  str10    float64 float64 float64 float64 float64 float64  int64 \n",
       "---------- ------- ------- ------- ------- ------- ------- -------\n",
       "J0157−0053   42.91     4.3     4.0     3.0     2.9     3.2       1\n",
       "J1106+0357   42.52     4.0     4.1     2.8     2.9     3.2       0"
      ]
     },
     "execution_count": 9,
     "metadata": {},
     "output_type": "execute_result"
    }
   ],
   "source": [
    "greene2011 = Table.read('data/Greene2011.txt', format='ascii')\n",
    "greene2011[:2]"
   ]
  },
  {
   "cell_type": "code",
   "execution_count": 10,
   "metadata": {
    "ExecuteTime": {
     "end_time": "2019-03-28T06:13:41.961881Z",
     "start_time": "2019-03-28T06:13:41.604234Z"
    }
   },
   "outputs": [
    {
     "data": {
      "image/png": "[encoded data removed]",
      "text/plain": [
       "<Figure size 432x288 with 1 Axes>"
      ]
     },
     "metadata": {
      "needs_background": "light"
     },
     "output_type": "display_data"
    }
   ],
   "source": [
    "gre11_L = greene2011['LOIII'].data\n",
    "gre11_L_err = np.full_like(gre11_L, 0.2/np.log(10)) # 20% error for dust extinction\n",
    "gre11_r_up = -1/greene2011['beta1'].data + greene2011['ROIII'].data\n",
    "gre11_r_low = -1/greene2011['beta2'].data + greene2011['ROIII'].data\n",
    "gre11_r = 0.5 * (gre11_r_up + gre11_r_low)\n",
    "gre11_r_err = np.abs(gre11_r - gre11_r_low) + np.log10(3)/np.log(10) # (3r)/r/np.log(10)\n",
    "#gre11_L = gre11_L.tolist()\n",
    "#gre11_r = gre11_r.tolist()\n",
    "#re11_r_err = gre11_r_err.tolist()\n",
    "if True:\n",
    "    plt.errorbar(gre11_L, gre11_r, xerr=gre11_L_err, yerr=gre11_r_err, linestyle='None', marker='o')"
   ]
  },
  {
   "cell_type": "markdown",
   "metadata": {},
   "source": [
    "### Liu2013"
   ]
  },
  {
   "cell_type": "code",
   "execution_count": 11,
   "metadata": {
    "ExecuteTime": {
     "end_time": "2019-03-28T06:13:44.278555Z",
     "start_time": "2019-03-28T06:13:44.219236Z"
    }
   },
   "outputs": [
    {
     "data": {
      "text/html": [
       "<i>Table length=2</i>\n",
       "<table id=\"table5445559464\" class=\"table-striped table-bordered table-condensed\">\n",
       "<thead><tr><th>name</th><th>z</th><th>seeing</th><th>L_OIII</th><th>L_err</th><th>R_obs</th><th>R_int</th></tr></thead>\n",
       "<thead><tr><th>str19</th><th>float64</th><th>float64</th><th>float64</th><th>float64</th><th>float64</th><th>float64</th></tr></thead>\n",
       "<tr><td>J014932.53-004803.7</td><td>0.566</td><td>0.52</td><td>42.87</td><td>0.13</td><td>7.4</td><td>6.9</td></tr>\n",
       "<tr><td>J021047.01-100152.9</td><td>0.54</td><td>0.58</td><td>43.48</td><td>0.1</td><td>17.8</td><td>14.4</td></tr>\n",
       "</table>"
      ],
      "text/plain": [
       "<Table length=2>\n",
       "        name           z     seeing  L_OIII  L_err   R_obs   R_int \n",
       "       str19        float64 float64 float64 float64 float64 float64\n",
       "------------------- ------- ------- ------- ------- ------- -------\n",
       "J014932.53-004803.7   0.566    0.52   42.87    0.13     7.4     6.9\n",
       "J021047.01-100152.9    0.54    0.58   43.48     0.1    17.8    14.4"
      ]
     },
     "execution_count": 11,
     "metadata": {},
     "output_type": "execute_result"
    }
   ],
   "source": [
    "liu2013 = Table.read('data/Liu2013.txt', format='ascii')\n",
    "liu2013[:2]"
   ]
  },
  {
   "cell_type": "code",
   "execution_count": 12,
   "metadata": {
    "ExecuteTime": {
     "end_time": "2019-03-28T06:13:45.606752Z",
     "start_time": "2019-03-28T06:13:45.284657Z"
    }
   },
   "outputs": [
    {
     "data": {
      "image/png": "[encoded data removed]",
      "text/plain": [
       "<Figure size 432x288 with 1 Axes>"
      ]
     },
     "metadata": {
      "needs_background": "light"
     },
     "output_type": "display_data"
    }
   ],
   "source": [
    "liu13_L = liu2013['L_OIII'].data\n",
    "liu13_L_err = np.full_like(liu13_L, 0.2/np.log(10)) # 20% uncertainty for type2 AGNs\n",
    "liu13_r = np.log10(liu2013['R_obs'].data * 1000)\n",
    "liu13_r_err = np.full_like(liu13_r, 0.2/np.log(10))\n",
    "\n",
    "#liu13_L = liu13_L.tolist()\n",
    "#liu13_r = liu13_r.tolist()\n",
    "#liu13_r_err = liu13_r_err.tolist()\n",
    "\n",
    "if True:\n",
    "    plt.errorbar(liu13_L, liu13_r, xerr=liu13_L_err, yerr=liu13_r_err, marker='o', ls='None')"
   ]
  },
  {
   "cell_type": "markdown",
   "metadata": {},
   "source": [
    "### Liu2014"
   ]
  },
  {
   "cell_type": "code",
   "execution_count": 13,
   "metadata": {
    "ExecuteTime": {
     "end_time": "2019-03-28T06:13:47.740051Z",
     "start_time": "2019-03-28T06:13:47.683968Z"
    }
   },
   "outputs": [
    {
     "data": {
      "text/html": [
       "<i>Table length=2</i>\n",
       "<table id=\"table5446252920\" class=\"table-striped table-bordered table-condensed\">\n",
       "<thead><tr><th>name</th><th>z</th><th>seeing</th><th>L_OIII</th><th>R_obs</th><th>R_int</th><th>vLv8um</th></tr></thead>\n",
       "<thead><tr><th>str19</th><th>float64</th><th>float64</th><th>float64</th><th>float64</th><th>float64</th><th>float64</th></tr></thead>\n",
       "<tr><td>J023342.57-074325.8</td><td>0.4538</td><td>0.42</td><td>43.13</td><td>12.4</td><td>10.7</td><td>45.05</td></tr>\n",
       "<tr><td>J030422.39+002231.8</td><td>0.6385</td><td>0.47</td><td>42.82</td><td>8.2</td><td>7.9</td><td>45.91</td></tr>\n",
       "</table>"
      ],
      "text/plain": [
       "<Table length=2>\n",
       "        name           z     seeing  L_OIII  R_obs   R_int   vLv8um\n",
       "       str19        float64 float64 float64 float64 float64 float64\n",
       "------------------- ------- ------- ------- ------- ------- -------\n",
       "J023342.57-074325.8  0.4538    0.42   43.13    12.4    10.7   45.05\n",
       "J030422.39+002231.8  0.6385    0.47   42.82     8.2     7.9   45.91"
      ]
     },
     "execution_count": 13,
     "metadata": {},
     "output_type": "execute_result"
    }
   ],
   "source": [
    "liu2014 = Table.read('data/Liu2014.txt', format='ascii')\n",
    "liu2014[:2]"
   ]
  },
  {
   "cell_type": "code",
   "execution_count": 14,
   "metadata": {
    "ExecuteTime": {
     "end_time": "2019-03-28T06:13:50.408505Z",
     "start_time": "2019-03-28T06:13:50.086466Z"
    }
   },
   "outputs": [
    {
     "data": {
      "image/png": "[encoded data removed]",
      "text/plain": [
       "<Figure size 432x288 with 1 Axes>"
      ]
     },
     "metadata": {
      "needs_background": "light"
     },
     "output_type": "display_data"
    }
   ],
   "source": [
    "liu14_L = liu2014['L_OIII'].data\n",
    "liu14_L_err = np.full_like(liu14_L, 0.1/np.log(10)) # 10% uncertainty for type1 AGNs\n",
    "liu14_r = np.log10(liu2014['R_obs'].data * 1000)\n",
    "liu14_r_err = np.full_like(liu14_r, 0.2/np.log(10))\n",
    "\n",
    "#liu14_L = liu14_L.tolist()\n",
    "#liu14_r = liu14_r.tolist()\n",
    "#liu14_r_err = liu14_r_err.tolist()\n",
    "\n",
    "if True:\n",
    "    plt.errorbar(liu14_L, liu14_r, xerr=liu14_L_err, yerr=liu14_r_err, marker='o', ls='None')"
   ]
  },
  {
   "cell_type": "markdown",
   "metadata": {},
   "source": [
    "### This work"
   ]
  },
  {
   "cell_type": "code",
   "execution_count": 15,
   "metadata": {
    "ExecuteTime": {
     "end_time": "2019-03-28T06:13:53.111558Z",
     "start_time": "2019-03-28T06:13:53.053132Z"
    }
   },
   "outputs": [],
   "source": [
    "this_Ldata = Table.read('data/LO3-2019-03-20.dat', format=\"ascii\")\n",
    "this_Rdata = Table.read('data/R_fsb-2019-03-20.dat', format='ascii')"
   ]
  },
  {
   "cell_type": "code",
   "execution_count": 16,
   "metadata": {
    "ExecuteTime": {
     "end_time": "2019-03-28T06:13:55.834622Z",
     "start_time": "2019-03-28T06:13:55.781382Z"
    }
   },
   "outputs": [
    {
     "data": {
      "text/plain": [
       "69"
      ]
     },
     "execution_count": 16,
     "metadata": {},
     "output_type": "execute_result"
    }
   ],
   "source": [
    "mcmc_fitting = Table.read('data/mcmc.txt', format='ascii')\n",
    "is_converge = (mcmc_fitting['is_converge'] >= 1) & (mcmc_fitting['is_converge'] <= 2)\n",
    "np.sum(is_converge) "
   ]
  },
  {
   "cell_type": "code",
   "execution_count": 17,
   "metadata": {
    "ExecuteTime": {
     "end_time": "2019-03-28T06:13:58.433661Z",
     "start_time": "2019-03-28T06:13:58.034825Z"
    }
   },
   "outputs": [
    {
     "data": {
      "image/png": "[encoded data removed]",
      "text/plain": [
       "<Figure size 432x288 with 1 Axes>"
      ]
     },
     "metadata": {
      "needs_background": "light"
     },
     "output_type": "display_data"
    }
   ],
   "source": [
    "this_L = this_Ldata['LO3_redcorr'].data\n",
    "this_L_err = 0.5 * (this_Ldata['LO3_redcorr_err_up'].data + this_Ldata['LO3_redcorr_err_low'].data)\n",
    "\n",
    "this_r = this_Rdata['logR_fsb2_orig'].data\n",
    "this_r_err = this_Rdata['logR_fsb2_orig_err'].data\n",
    "\n",
    "is_limit = this_Rdata['is_limit'].data == 1\n",
    "not_limit = this_Rdata['is_limit'].data == 0\n",
    "contaminate = (this_Rdata['agn_fraction'].data < 0.1) #& is_limit\n",
    "unresolve = this_Rdata['agn_pixels'].data < 100\n",
    "excess = this_Rdata['excess'] == 1\n",
    "\n",
    "this_r[is_limit] = this_Rdata['logR_fsb2'].data[is_limit]\n",
    "\n",
    "\n",
    "if True:\n",
    "    #plt.plot(this_L[not_limit], this_r[not_limit], 'o')\n",
    "    #plt.plot(this_L[is_limit], this_r[is_limit], 'o')\n",
    "    \n",
    "    #plt.plot(this_L, this_r, 'o')\n",
    "    #plt.plot(this_L[contaminate], this_r[contaminate], 'o')\n",
    "    #plt.plot(this_L[excess], this_r[excess], 'o')\n",
    "    \n",
    "    #plt.errorbar(this_L, this_r, xerr=this_L_err, yerr=this_r_err, uplims=is_limit, marker='o', ls='None', alpha=0.5)\n",
    "    \n",
    "    # account for the is_converge\n",
    "    this_L1 = this_L[is_converge]\n",
    "    this_L_err1 = this_L_err[is_converge]\n",
    "    this_r1 = this_r[is_converge]\n",
    "    this_r_err1 = yerr=this_r_err[is_converge]\n",
    "    is_limit1 = is_limit[is_converge]\n",
    "    plt.errorbar(this_L1, this_r1, xerr=this_L_err1, yerr=this_r_err1, uplims=is_limit1, marker='o', ls='None', alpha=0.5)\n",
    "    \n",
    "    this_L2 = this_L[~is_converge]\n",
    "    this_L_err2 = this_L_err[~is_converge]\n",
    "    this_r2 = this_r[~is_converge]\n",
    "    this_r_err2 = yerr=this_r_err[~is_converge]\n",
    "    is_limit2 = is_limit[~is_converge]\n",
    "    plt.errorbar(this_L2, this_r2, xerr=this_L_err2, yerr=this_r_err2, uplims=is_limit2, marker='o', ls='None', alpha=0.5)\n",
    "    \n",
    "    plt.ylim(2.4, 4.2)\n",
    "    \n",
    "    #plt.errorbar(this_L[contaminate], this_r[contaminate], xerr=this_L_err[contaminate], yerr=this_r_err[contaminate], marker='o', ls='None', alpha=0.5, uplims=True)\n",
    "    #plt.errorbar(this_L[unresolve], this_r[unresolve], xerr=this_L_err[unresolve], yerr=this_r_err[unresolve], marker='o', ls='None', alpha=0.5, lolims=True)"
   ]
  },
  {
   "cell_type": "code",
   "execution_count": null,
   "metadata": {},
   "outputs": [],
   "source": []
  },
  {
   "cell_type": "markdown",
   "metadata": {},
   "source": [
    "## Size(ENLR) - Luminosty(AGN) relation"
   ]
  },
  {
   "cell_type": "code",
   "execution_count": 18,
   "metadata": {
    "ExecuteTime": {
     "end_time": "2019-03-28T06:14:24.455603Z",
     "start_time": "2019-03-28T06:14:06.619918Z"
    }
   },
   "outputs": [
    {
     "name": "stderr",
     "output_type": "stream",
     "text": [
      "/Users/hang/.local/miniconda3/envs/astro/lib/python3.7/importlib/_bootstrap.py:219: RuntimeWarning: numpy.ufunc size changed, may indicate binary incompatibility. Expected 192 from C header, got 216 from PyObject\n",
      "  return f(*args, **kwds)\n"
     ]
    },
    {
     "name": "stdout",
     "output_type": "stream",
     "text": [
      "alpha: -12.494±0.783, beta: +0.385±0.019, sig^2: 0.005\n"
     ]
    },
    {
     "data": {
      "image/png": "[encoded data removed]",
      "text/plain": [
       "<Figure size 720x576 with 1 Axes>"
      ]
     },
     "metadata": {
      "needs_background": "light"
     },
     "output_type": "display_data"
    }
   ],
   "source": [
    "# Isophote\n",
    "import numpy as np\n",
    "import astropy.units as u\n",
    "from astropy.table import Table\n",
    "import matplotlib.pyplot as plt\n",
    "from ltsfit.lts_linefit import lts_linefit\n",
    "from mangatools import linmix\n",
    "\n",
    "set_matplotlib_formats('png')\n",
    "\n",
    "# preset for plot\n",
    "fs = 16\n",
    "lw = 2\n",
    "ms = 4\n",
    "pa = 0.8 # point alpha\n",
    "ea = 0.1 #errorbar alpha\n",
    "\n",
    "X_all = [] #include all the data points\n",
    "X_all_err = []\n",
    "Y_all = []\n",
    "Y_all_err = []\n",
    "\n",
    "X_ifu = [] #include just the ifu obervation\n",
    "X_ifu_err = []\n",
    "Y_ifu = []\n",
    "Y_ifu_err = []\n",
    "Y_delta = []\n",
    "\n",
    "# default error, use for fitting\n",
    "x_err_default = 0.2*np.log(10) # 20% error\n",
    "y_err_default = 0.2*np.log(10) # 20% error\n",
    "\n",
    "fig, ax = plt.subplots(1,1, figsize=(10, 8))\n",
    "ax.tick_params(axis='both', which='major', labelsize=fs)\n",
    "ax.tick_params(axis='both', which='minor', labelsize=fs-1)\n",
    "\n",
    "if True: # plot data of this work\n",
    "    color = 'C0'\n",
    "    marker = 'o'\n",
    "    ax.plot(this_L, this_r, marker=marker, alpha=pa, label='This Work', \n",
    "            color=color, lw=lw, ms=ms, linestyle='None')\n",
    "    plt.errorbar(this_L, this_r, xerr=this_L_err, uplims=is_limit,\n",
    "                 yerr=this_r_err, ls='None', label=None, alpha=ea, color=color)\n",
    "    #ax.plot(this_L1, this_r1, marker=marker, alpha=0.8, label='This Work', \n",
    "    #        color=color, lw=lw, ms=ms, linestyle='None')\n",
    "    #plt.errorbar(this_L1, this_r1, xerr=this_L_err1, uplims=is_limit1,\n",
    "    #             yerr=this_r_err1, ls='None', label=None, alpha=0.1, color=color)\n",
    "    #ax.plot(this_L2, this_r2, marker=marker, alpha=0.3, \n",
    "    #        color=color, lw=lw, ms=ms, linestyle='None')\n",
    "    #plt.errorbar(this_L2, this_r2, xerr=this_L_err2, uplims=is_limit2,\n",
    "    #             yerr=this_r_err2, ls='None', label=None, alpha=0.1, color=color)\n",
    "    # append data for fitting\n",
    "    X_all.append(this_L)\n",
    "    X_all_err.append(this_L_err)\n",
    "    Y_all.append(this_r)\n",
    "    Y_all_err.append(this_r_err)\n",
    "    Y_delta.append(~is_limit)\n",
    "    \n",
    "\n",
    "if True: # plot fraqulli 2003\n",
    "    color = 'C1'\n",
    "    marker = 'x'\n",
    "    ax.plot(fra03_L, fra03_r, marker=marker, alpha=pa, label='Fraquelli 2003', color=color, \n",
    "            lw=lw, ms=ms, linestyle='None')\n",
    "    ax.errorbar(fra03_L, fra03_r, marker=marker, alpha=ea, label=None, color=color,\n",
    "                linestyle='None')#, yerr=np.full_like(fra03_r), uplims=np.ones_like(fra03_r))\n",
    "    # append data for fitting\n",
    "    #X_all.append(fra03_L)\n",
    "    #X_all_err.append(np.full_like(fra03_L, x_err_default)) # 50% error\n",
    "    #Y_all.append(fra03_r)\n",
    "    #Y_all_err.append(np.full_like(fra03_r, y_err_default))\n",
    "    #Y_delta.append(np.full_like(fra03_r, False))\n",
    "\n",
    "\n",
    "if True: # plot Bennert 2006a\n",
    "    color = 'C2'\n",
    "    marker = '>'\n",
    "    ax.plot(ben06a_L, ben06a_r, marker=marker, alpha=pa, label='Bennert 2006a', \n",
    "            color=color, lw=lw, ms=ms, linestyle='None')\n",
    "    plt.errorbar(ben06a_L, ben06a_r, ls='None', label=None, alpha=ea, color=color,)\n",
    "                 #uplims=np.ones_like(ben06a_r) yerr=np.full_like(ben06a_r, 0.05))\n",
    "    # append data for fitting\n",
    "    #X_all.append(ben06a_L)\n",
    "    #X_all_err.append(np.full_like(ben06a_L, x_err_default))\n",
    "    #Y_all.append(ben06a_r)\n",
    "    #Y_all_err.append(ben06a_r_err)\n",
    "    #Y_delta.append(np.full_like(ben06a_r, False))\n",
    "\n",
    "if True: # plot Bennert 2006b\n",
    "    #ax.errorbar(ben06b_L, ben06b_r, yerr=ben06b_r_err, marker='o', linestyle='None', label='Bennert 2006b')\n",
    "    color = 'C3'\n",
    "    marker = '<'\n",
    "    ax.plot(ben06b_L, ben06b_r, marker=marker, alpha=pa, label='Bennert 2006b', \n",
    "            color=color, lw=lw, ms=ms, linestyle='None')\n",
    "    plt.errorbar(ben06b_L, ben06b_r, ls='None', label=None, alpha=ea, color=color,)\n",
    "                 #yerr=np.full_like(ben06b_r, 0.05), uplims=np.ones_like(ben06b_r))\n",
    "    # append data for fitting\n",
    "    #X_all.append(ben06b_L)\n",
    "    #X_all_err.append(np.full_like(ben06b_L, x_err_default))\n",
    "    #Y_all.append(ben06b_r)\n",
    "    #Y_all_err.append(ben06b_r_err)\n",
    "    #Y_delta.append(np.full_like(ben06b_r, False))\n",
    "    \n",
    "if True: # plot greene 2011\n",
    "    color = 'C4'\n",
    "    marker = 'P'\n",
    "    ax.plot(gre11_L, gre11_r, marker=marker, alpha=pa, label='Greene 2011', \n",
    "            color=color, lw=lw, ms=ms, linestyle='None')\n",
    "    plt.errorbar(gre11_L, gre11_r, xerr=gre11_L_err, yerr=gre11_r_err, \n",
    "                 ls='None', label=None, alpha=ea, color=color)\n",
    "    # append data for fitting\n",
    "    X_all.append(gre11_L)\n",
    "    X_all_err.append(np.full_like(gre11_L, x_err_default))\n",
    "    Y_all.append(gre11_r)\n",
    "    Y_all_err.append(gre11_r_err)\n",
    "    Y_delta.append(np.ones_like(gre11_r))\n",
    "\n",
    "    \n",
    "if True: # plot liu2013\n",
    "    #ax.errorbar(liu13_L, liu13_r, yerr=liu13_r_err, marker='o', ls='None', label='Liu 2013')\n",
    "    color = 'C5'\n",
    "    marker = 's'\n",
    "    ax.plot(liu13_L, liu13_r, marker=marker, alpha=pa, label='Liu 2013', \n",
    "            color=color, lw=lw, ms=ms, linestyle='None')\n",
    "    plt.errorbar(liu13_L, liu13_r, yerr=liu13_r_err, xerr=liu13_L_err,\n",
    "                 ls='None', label=None, alpha=ea, color=color)\n",
    "    # append data for fitting\n",
    "    X_all.append(liu13_L)\n",
    "    X_all_err.append(np.full_like(liu13_L, x_err_default))\n",
    "    Y_all.append(liu13_r)\n",
    "    Y_all_err.append(liu13_r_err)\n",
    "    Y_delta.append(np.ones_like(liu13_r))\n",
    "    \n",
    "if True: # plot liu2014\n",
    "    #ax.errorbar(liu14_L, liu14_r, yerr=liu14_r_err, marker='o', ls='None', label='Liu 2014')\n",
    "    color = 'C6'\n",
    "    marker = 'D'\n",
    "    ax.plot(liu14_L, liu14_r, marker=marker, alpha=pa, label='Liu 2014', \n",
    "            color=color, lw=lw, ms=ms, linestyle='None')\n",
    "    plt.errorbar(liu14_L, liu14_r, yerr=liu14_r_err, xerr=liu14_L_err,\n",
    "                 ls='None', label=None, alpha=ea, color=color)\n",
    "    # append data for fitting\n",
    "    X_all.append(liu14_L)\n",
    "    X_all_err.append(np.full_like(liu14_L, x_err_default))\n",
    "    Y_all.append(liu14_r)\n",
    "    Y_all_err.append(liu14_r_err)\n",
    "    Y_delta.append(np.ones_like(liu14_r))\n",
    "\n",
    "\n",
    "if False: # do fitting\n",
    "    xfit = np.concatenate(X_all)\n",
    "    xfit_err = np.concatenate(X_all_err)\n",
    "    yfit = np.concatenate(Y_all)\n",
    "    yfit_err = np.concatenate(Y_all_err)\n",
    "    \n",
    "\n",
    "    p = lts_linefit(xfit, yfit, xfit_err, yfit_err, clip=3, epsy=True, corr=True, frac=None, \n",
    "                    pivot=0, plot=False, text=False)\n",
    "\n",
    "    # show fitting results\n",
    "    rms = np.std(p.ab[0] + p.ab[1]*xfit[p.mask] - yfit[p.mask], ddof=2)\n",
    "    par = np.append(p.ab, p.sig_int)\n",
    "    sig_par = np.append(p.ab_err, p.sig_int_err)\n",
    "\n",
    "    xmin, xmax = np.min(xfit), np.max(xfit)\n",
    "    dx = xmax - xmin\n",
    "    xlimits = np.array([xmin - dx, xmax + dx])\n",
    "    y_res = par[0] + par[1]*xlimits\n",
    "    ax.plot(xlimits, y_res, '-k')\n",
    "    ax.plot(xlimits, y_res + rms, '--r', alpha=0.3)\n",
    "    ax.plot(xlimits, y_res - rms, '--r', alpha=0.3)\n",
    "    #ax.set_title(r\"$y = (0.307 \\pm 0.021) x - (9.09 \\pm 0.86)$\", fontsize=fs)\n",
    "    #ax.text(41., 2.7, \"Spearman r=0.78, p=1e-19 \\n Pearson r=0.84, p=1e-25\", \n",
    "    #        fontsize=fs)\n",
    "\n",
    "if True: # fitting with linmix\n",
    "    xfit = np.concatenate(X_all)\n",
    "    xfit_err = np.concatenate(X_all_err)\n",
    "    yfit = np.concatenate(Y_all)\n",
    "    yfit_err = np.concatenate(Y_all_err)\n",
    "    ydelta = np.concatenate(Y_delta)\n",
    "\n",
    "    lm = linmix.LinMix(xfit, yfit, xfit_err, yfit_err, delta=ydelta, K=2)\n",
    "    lm.run_mcmc(silent=True)\n",
    "    \n",
    "    #for i in range(0, len(lm.chain), 25):\n",
    "    #    xs = np.arange(38,46)\n",
    "    #    ys = lm.chain[i]['alpha'] + xs * lm.chain[i]['beta']\n",
    "    #    ax.plot(xs, ys, color='r', alpha=0.02)\n",
    "    curves = []\n",
    "    xs = np.arange(38,46)\n",
    "    for i in range(0, len(lm.chain)):\n",
    "        curves.append(lm.chain[i]['alpha'] + xs * lm.chain[i]['beta'] + lm.chain[i]['sigsqr'])\n",
    "\n",
    "    # Plot 95% confidence interval\n",
    "    lo, hi = np.percentile(curves, (2.5, 97.5), axis=0)\n",
    "    #lo, hi = np.percentile(curves, (17, 83), axis=0)\n",
    "    ax.fill_between(xs, lo, hi, color='red', alpha=0.2)\n",
    "    #ax.fill_between(xs, lo, hi, color='mistyrose', alpha=0.2)\n",
    "    alpha, alpha_err = np.mean(lm.chain['alpha']), np.std(lm.chain['alpha'])\n",
    "    beta, beta_err = np.mean(lm.chain['beta']), np.std(lm.chain['beta'])\n",
    "    sigsqr = np.mean(lm.chain['sigsqr'])\n",
    "    print(r\"alpha: {:+.3f}±{:.3f}, beta: {:+.3f}±{:.3f}, sig^2: {:.3f}\".format(\n",
    "            alpha, alpha_err, beta, beta_err, sigsqr))\n",
    "    ax.plot(xs, alpha + xs * beta + sigsqr, 'k-', alpha=0.8)\n",
    "    \n",
    "    \n",
    "ax.set_xlabel(r\"${\\rm Log(L[O\\,III])}$\", fontsize=fs)\n",
    "ax.set_ylabel(r\"Log(R$_{16}$)/pc\", fontsize=fs)\n",
    "ax.set_xlim(39, 44.5)\n",
    "ax.set_ylim(2.3, 4.8)\n",
    "ax.legend(fontsize=fs, loc='upper left')\n",
    "fig.savefig('./results/all_fitting.pdf', bbox_inches='tight')\n",
    "#set_matplotlib_formats('png')"
   ]
  },
  {
   "cell_type": "code",
   "execution_count": null,
   "metadata": {},
   "outputs": [],
   "source": []
  }
 ],
 "metadata": {
  "kernelspec": {
   "display_name": "Python 3",
   "language": "python",
   "name": "python3"
  },
  "language_info": {
   "codemirror_mode": {
    "name": "ipython",
    "version": 3
   },
   "file_extension": ".py",
   "mimetype": "text/x-python",
   "name": "python",
   "nbconvert_exporter": "python",
   "pygments_lexer": "ipython3",
   "version": "3.7.2"
  },
  "toc": {
   "base_numbering": 1,
   "nav_menu": {},
   "number_sections": true,
   "sideBar": true,
   "skip_h1_title": false,
   "title_cell": "Table of Contents",
   "title_sidebar": "Contents",
   "toc_cell": false,
   "toc_position": {},
   "toc_section_display": true,
   "toc_window_display": true
  },
  "varInspector": {
   "cols": {
    "lenName": 16,
    "lenType": 16,
    "lenVar": 40
   },
   "kernels_config": {
    "python": {
     "delete_cmd_postfix": "",
     "delete_cmd_prefix": "del ",
     "library": "var_list.py",
     "varRefreshCmd": "print(var_dic_list())"
    },
    "r": {
     "delete_cmd_postfix": ") ",
     "delete_cmd_prefix": "rm(",
     "library": "var_list.r",
     "varRefreshCmd": "cat(var_dic_list()) "
    }
   },
   "position": {
    "height": "722.85px",
    "left": "1349px",
    "right": "20px",
    "top": "120px",
    "width": "337.667px"
   },
   "types_to_exclude": [
    "module",
    "function",
    "builtin_function_or_method",
    "instance",
    "_Feature"
   ],
   "window_display": false
  }
 },
 "nbformat": 4,
 "nbformat_minor": 2
}
